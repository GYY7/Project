{
  "nbformat": 4,
  "nbformat_minor": 0,
  "metadata": {
    "colab": {
      "name": "A1_GYY.ipynb",
      "provenance": [],
      "collapsed_sections": [],
      "machine_shape": "hm"
    },
    "kernelspec": {
      "name": "python3",
      "display_name": "Python 3"
    }
  },
  "cells": [
    {
      "cell_type": "code",
      "metadata": {
        "id": "1I2s4d6xFrRM",
        "colab_type": "code",
        "outputId": "91cdc9e7-0897-4995-b71e-c2079a0b4559",
        "colab": {
          "resources": {
            "http://localhost:8080/nbextensions/google.colab/files.js": {
              "data": "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",
              "ok": true,
              "headers": [
                [
                  "content-type",
                  "application/javascript"
                ]
              ],
              "status": 200,
              "status_text": ""
            }
          },
          "base_uri": "https://localhost:8080/",
          "height": 75
        }
      },
      "source": [
        "#Upload bonds.csv\n",
        "from google.colab import files\n",
        "uploaded = files.upload()"
      ],
      "execution_count": 1,
      "outputs": [
        {
          "output_type": "display_data",
          "data": {
            "text/html": [
              "\n",
              "     <input type=\"file\" id=\"files-5fe3deb0-eb37-49e0-93c7-fde51f6bdc97\" name=\"files[]\" multiple disabled />\n",
              "     <output id=\"result-5fe3deb0-eb37-49e0-93c7-fde51f6bdc97\">\n",
              "      Upload widget is only available when the cell has been executed in the\n",
              "      current browser session. Please rerun this cell to enable.\n",
              "      </output>\n",
              "      <script src=\"/nbextensions/google.colab/files.js\"></script> "
            ],
            "text/plain": [
              "<IPython.core.display.HTML object>"
            ]
          },
          "metadata": {
            "tags": []
          }
        },
        {
          "output_type": "stream",
          "text": [
            "Saving bonds.csv to bonds.csv\n"
          ],
          "name": "stdout"
        }
      ]
    },
    {
      "cell_type": "code",
      "metadata": {
        "id": "-nw5Q80mGRik",
        "colab_type": "code",
        "outputId": "bdf4b0ed-9f14-4ae0-d415-ce64179104ec",
        "colab": {
          "base_uri": "https://localhost:8080/",
          "height": 34
        }
      },
      "source": [
        "ls"
      ],
      "execution_count": 0,
      "outputs": [
        {
          "output_type": "stream",
          "text": [
            "APM466bonds.csv  \u001b[0m\u001b[01;34msample_data\u001b[0m/\n"
          ],
          "name": "stdout"
        }
      ]
    },
    {
      "cell_type": "code",
      "metadata": {
        "id": "wFmUuOKnHCDx",
        "colab_type": "code",
        "colab": {}
      },
      "source": [
        "import pandas as pd\n",
        "import numpy as np\n",
        "import matplotlib.pyplot as plt\n",
        "import datetime"
      ],
      "execution_count": 0,
      "outputs": []
    },
    {
      "cell_type": "code",
      "metadata": {
        "id": "soZNZe9zGYV-",
        "colab_type": "code",
        "colab": {}
      },
      "source": [
        "bonds = pd.read_csv(\"bonds.csv\")"
      ],
      "execution_count": 0,
      "outputs": []
    },
    {
      "cell_type": "code",
      "metadata": {
        "id": "wBucIJYjGgwN",
        "colab_type": "code",
        "outputId": "89d0e1eb-7545-4112-f2a1-dad4fb16b93f",
        "colab": {
          "base_uri": "https://localhost:8080/",
          "height": 594
        }
      },
      "source": [
        "bonds"
      ],
      "execution_count": 4,
      "outputs": [
        {
          "output_type": "execute_result",
          "data": {
            "text/html": [
              "<div>\n",
              "<style scoped>\n",
              "    .dataframe tbody tr th:only-of-type {\n",
              "        vertical-align: middle;\n",
              "    }\n",
              "\n",
              "    .dataframe tbody tr th {\n",
              "        vertical-align: top;\n",
              "    }\n",
              "\n",
              "    .dataframe thead th {\n",
              "        text-align: right;\n",
              "    }\n",
              "</style>\n",
              "<table border=\"1\" class=\"dataframe\">\n",
              "  <thead>\n",
              "    <tr style=\"text-align: right;\">\n",
              "      <th></th>\n",
              "      <th>Bond</th>\n",
              "      <th>2020-01-02</th>\n",
              "      <th>2020-01-03</th>\n",
              "      <th>2020-01-06</th>\n",
              "      <th>2020-01-07</th>\n",
              "      <th>2020-01-08</th>\n",
              "      <th>2020-01-09</th>\n",
              "      <th>2020-01-10</th>\n",
              "      <th>2020-01-13</th>\n",
              "      <th>2020-01-14</th>\n",
              "      <th>2020-01-15</th>\n",
              "      <th>coupon</th>\n",
              "      <th>ISIN</th>\n",
              "      <th>issue date</th>\n",
              "      <th>maturity date</th>\n",
              "      <th>Unnamed: 15</th>\n",
              "    </tr>\n",
              "  </thead>\n",
              "  <tbody>\n",
              "    <tr>\n",
              "      <th>0</th>\n",
              "      <td>CDA 2020</td>\n",
              "      <td>99.85</td>\n",
              "      <td>99.86</td>\n",
              "      <td>99.86</td>\n",
              "      <td>99.86</td>\n",
              "      <td>99.86</td>\n",
              "      <td>99.86</td>\n",
              "      <td>99.86</td>\n",
              "      <td>99.86</td>\n",
              "      <td>99.86</td>\n",
              "      <td>99.86</td>\n",
              "      <td>1.50%</td>\n",
              "      <td>CA135087D929</td>\n",
              "      <td>2014-10-14</td>\n",
              "      <td>2020-03-01</td>\n",
              "      <td>1</td>\n",
              "    </tr>\n",
              "    <tr>\n",
              "      <th>1</th>\n",
              "      <td>CDA 2020</td>\n",
              "      <td>99.26</td>\n",
              "      <td>99.28</td>\n",
              "      <td>99.28</td>\n",
              "      <td>99.27</td>\n",
              "      <td>99.28</td>\n",
              "      <td>99.28</td>\n",
              "      <td>99.28</td>\n",
              "      <td>99.27</td>\n",
              "      <td>99.28</td>\n",
              "      <td>99.30</td>\n",
              "      <td>0.75%</td>\n",
              "      <td>CA135087E596</td>\n",
              "      <td>2015-04-13</td>\n",
              "      <td>2020-09-01</td>\n",
              "      <td>2</td>\n",
              "    </tr>\n",
              "    <tr>\n",
              "      <th>2</th>\n",
              "      <td>CDA 2021</td>\n",
              "      <td>98.89</td>\n",
              "      <td>98.93</td>\n",
              "      <td>98.95</td>\n",
              "      <td>98.94</td>\n",
              "      <td>98.92</td>\n",
              "      <td>98.92</td>\n",
              "      <td>98.88</td>\n",
              "      <td>98.90</td>\n",
              "      <td>98.90</td>\n",
              "      <td>98.93</td>\n",
              "      <td>0.75%</td>\n",
              "      <td>CA135087F254</td>\n",
              "      <td>2015-10-19</td>\n",
              "      <td>2021-03-01</td>\n",
              "      <td>3</td>\n",
              "    </tr>\n",
              "    <tr>\n",
              "      <th>3</th>\n",
              "      <td>CDA 2021</td>\n",
              "      <td>98.41</td>\n",
              "      <td>98.45</td>\n",
              "      <td>98.49</td>\n",
              "      <td>98.46</td>\n",
              "      <td>98.46</td>\n",
              "      <td>98.43</td>\n",
              "      <td>98.43</td>\n",
              "      <td>98.38</td>\n",
              "      <td>98.41</td>\n",
              "      <td>98.42</td>\n",
              "      <td>0.75%</td>\n",
              "      <td>CA135087F585</td>\n",
              "      <td>2016-04-11</td>\n",
              "      <td>2021-09-01</td>\n",
              "      <td>4</td>\n",
              "    </tr>\n",
              "    <tr>\n",
              "      <th>4</th>\n",
              "      <td>CDA 2022</td>\n",
              "      <td>97.57</td>\n",
              "      <td>97.63</td>\n",
              "      <td>97.66</td>\n",
              "      <td>97.65</td>\n",
              "      <td>97.64</td>\n",
              "      <td>97.60</td>\n",
              "      <td>97.61</td>\n",
              "      <td>97.57</td>\n",
              "      <td>97.58</td>\n",
              "      <td>97.61</td>\n",
              "      <td>0.50%</td>\n",
              "      <td>CA135087G328</td>\n",
              "      <td>2016-10-11</td>\n",
              "      <td>2022-03-01</td>\n",
              "      <td>5</td>\n",
              "    </tr>\n",
              "    <tr>\n",
              "      <th>5</th>\n",
              "      <td>CDA 2022</td>\n",
              "      <td>102.53</td>\n",
              "      <td>102.59</td>\n",
              "      <td>102.62</td>\n",
              "      <td>102.59</td>\n",
              "      <td>102.58</td>\n",
              "      <td>102.52</td>\n",
              "      <td>102.52</td>\n",
              "      <td>102.46</td>\n",
              "      <td>102.47</td>\n",
              "      <td>102.51</td>\n",
              "      <td>2.75%</td>\n",
              "      <td>CA135087ZU15</td>\n",
              "      <td>2011-08-02</td>\n",
              "      <td>2022-06-01</td>\n",
              "      <td>6</td>\n",
              "    </tr>\n",
              "    <tr>\n",
              "      <th>6</th>\n",
              "      <td>CDA 2023</td>\n",
              "      <td>100.31</td>\n",
              "      <td>100.42</td>\n",
              "      <td>100.48</td>\n",
              "      <td>100.45</td>\n",
              "      <td>100.44</td>\n",
              "      <td>100.35</td>\n",
              "      <td>100.31</td>\n",
              "      <td>100.27</td>\n",
              "      <td>100.31</td>\n",
              "      <td>100.38</td>\n",
              "      <td>1.75%</td>\n",
              "      <td>CA135087H490</td>\n",
              "      <td>2017-10-06</td>\n",
              "      <td>2023-03-01</td>\n",
              "      <td>7</td>\n",
              "    </tr>\n",
              "    <tr>\n",
              "      <th>7</th>\n",
              "      <td>CDA 2023</td>\n",
              "      <td>99.48</td>\n",
              "      <td>99.59</td>\n",
              "      <td>99.65</td>\n",
              "      <td>99.61</td>\n",
              "      <td>99.62</td>\n",
              "      <td>99.54</td>\n",
              "      <td>99.53</td>\n",
              "      <td>99.44</td>\n",
              "      <td>99.49</td>\n",
              "      <td>99.56</td>\n",
              "      <td>1.50%</td>\n",
              "      <td>CA135087A610</td>\n",
              "      <td>2012-07-30</td>\n",
              "      <td>2023-06-01</td>\n",
              "      <td>8</td>\n",
              "    </tr>\n",
              "    <tr>\n",
              "      <th>8</th>\n",
              "      <td>CDA 2024</td>\n",
              "      <td>102.52</td>\n",
              "      <td>102.65</td>\n",
              "      <td>102.75</td>\n",
              "      <td>102.58</td>\n",
              "      <td>102.68</td>\n",
              "      <td>102.53</td>\n",
              "      <td>102.47</td>\n",
              "      <td>102.46</td>\n",
              "      <td>102.54</td>\n",
              "      <td>102.64</td>\n",
              "      <td>2.25%</td>\n",
              "      <td>CA135087J546</td>\n",
              "      <td>2018-10-05</td>\n",
              "      <td>2024-03-01</td>\n",
              "      <td>9</td>\n",
              "    </tr>\n",
              "    <tr>\n",
              "      <th>9</th>\n",
              "      <td>CDA 19/24</td>\n",
              "      <td>98.72</td>\n",
              "      <td>98.95</td>\n",
              "      <td>99.29</td>\n",
              "      <td>99.11</td>\n",
              "      <td>99.25</td>\n",
              "      <td>98.99</td>\n",
              "      <td>99.03</td>\n",
              "      <td>99.06</td>\n",
              "      <td>98.99</td>\n",
              "      <td>99.10</td>\n",
              "      <td>1.50%</td>\n",
              "      <td>CA135087J967</td>\n",
              "      <td>2019-04-05</td>\n",
              "      <td>2024-09-01</td>\n",
              "      <td>10</td>\n",
              "    </tr>\n",
              "    <tr>\n",
              "      <th>10</th>\n",
              "      <td>CANADA 19/25</td>\n",
              "      <td>98.24</td>\n",
              "      <td>98.43</td>\n",
              "      <td>98.58</td>\n",
              "      <td>98.48</td>\n",
              "      <td>98.48</td>\n",
              "      <td>98.30</td>\n",
              "      <td>98.25</td>\n",
              "      <td>98.24</td>\n",
              "      <td>98.34</td>\n",
              "      <td>98.47</td>\n",
              "      <td>1.25%</td>\n",
              "      <td>CA135087K528</td>\n",
              "      <td>2019-10-11</td>\n",
              "      <td>2025-03-01</td>\n",
              "      <td>11</td>\n",
              "    </tr>\n",
              "  </tbody>\n",
              "</table>\n",
              "</div>"
            ],
            "text/plain": [
              "            Bond  2020-01-02  2020-01-03  ...  issue date  maturity date  Unnamed: 15\n",
              "0       CDA 2020       99.85       99.86  ...  2014-10-14     2020-03-01            1\n",
              "1       CDA 2020       99.26       99.28  ...  2015-04-13     2020-09-01            2\n",
              "2       CDA 2021       98.89       98.93  ...  2015-10-19     2021-03-01            3\n",
              "3       CDA 2021       98.41       98.45  ...  2016-04-11     2021-09-01            4\n",
              "4       CDA 2022       97.57       97.63  ...  2016-10-11     2022-03-01            5\n",
              "5       CDA 2022      102.53      102.59  ...  2011-08-02     2022-06-01            6\n",
              "6       CDA 2023      100.31      100.42  ...  2017-10-06     2023-03-01            7\n",
              "7       CDA 2023       99.48       99.59  ...  2012-07-30     2023-06-01            8\n",
              "8       CDA 2024      102.52      102.65  ...  2018-10-05     2024-03-01            9\n",
              "9      CDA 19/24       98.72       98.95  ...  2019-04-05     2024-09-01           10\n",
              "10  CANADA 19/25       98.24       98.43  ...  2019-10-11     2025-03-01           11\n",
              "\n",
              "[11 rows x 16 columns]"
            ]
          },
          "metadata": {
            "tags": []
          },
          "execution_count": 4
        }
      ]
    },
    {
      "cell_type": "code",
      "metadata": {
        "id": "upqHfhYYjr1p",
        "colab_type": "code",
        "colab": {}
      },
      "source": [
        "from sympy import *\n",
        "from scipy import optimize"
      ],
      "execution_count": 0,
      "outputs": []
    },
    {
      "cell_type": "code",
      "metadata": {
        "id": "yf8YcXPJ38HI",
        "colab_type": "code",
        "outputId": "f66b49cf-bab7-4991-fd8c-912a9c14ebec",
        "colab": {
          "base_uri": "https://localhost:8080/",
          "height": 295
        }
      },
      "source": [
        "today_dates = ['2020-01-02', '2020-01-03', '2020-01-06', '2020-01-07', '2020-01-08', '2020-01-09', '2020-01-10','2020-01-13','2020-01-14','2020-01-15']\n",
        "maturity_dates = []\n",
        "dates6 = ['2020-06-01','2020-12-01','2021-06-01','2021-12-01','2022-06-01','2022-12-01','2023-06-01']\n",
        "coupon_dates9 = []\n",
        "coupon_dates6 = []\n",
        "\n",
        "for m_date in bonds['maturity date']:\n",
        "  maturity_dates.append(datetime.datetime.strptime(m_date, '%Y-%m-%d'))\n",
        "  if m_date == '2022-06-01':\n",
        "    m_date = '2022-09-01'\n",
        "  elif m_date == '2023-06-01':\n",
        "    m_date = '2023-09-01'\n",
        "  coupon_dates9.append(datetime.datetime.strptime(m_date, '%Y-%m-%d'))\n",
        "for date6 in dates6:\n",
        "  coupon_dates6.append(datetime.datetime.strptime(date6, '%Y-%m-%d'))\n",
        "\n",
        "coupons = bonds['coupon']\n",
        "ytm_lst = []\n",
        "lines = []\n",
        "for date in today_dates:\n",
        "  spots = []\n",
        "  prices = bonds[date]\n",
        "  today = datetime.datetime.strptime(date, '%Y-%m-%d')\n",
        "  ytms = []\n",
        "  x_axis = []\n",
        "  for i in range(11):\n",
        "    # i corresponds to i/2 year\n",
        "    clean_price = prices[i]\n",
        "    coupon = float(coupons[i][:-1])/2\n",
        "    if maturity_dates[i] in [datetime.datetime.strptime('2022-06-01', '%Y-%m-%d'),\n",
        "                             datetime.datetime.strptime('2023-06-01', '%Y-%m-%d')]:\n",
        "      pre_date = datetime.datetime.strptime('2019-12-01', '%Y-%m-%d')\n",
        "    else:\n",
        "      pre_date = datetime.datetime.strptime('2019-09-01', '%Y-%m-%d')              \n",
        "\n",
        "    accrued_int = (today - pre_date).days / 180* coupon\n",
        "    dirty_price = clean_price + accrued_int\n",
        "     \n",
        "    time_to_mature = (maturity_dates[i]-today).days/365\n",
        "    x_axis.append(time_to_mature)\n",
        "    \n",
        "    \n",
        "    def eq(ytm):\n",
        "      f = (100 + coupon)/((1+ytm/2)**(time_to_mature*2)) - dirty_price\n",
        "      if maturity_dates[i] not in [datetime.datetime.strptime('2022-06-01', '%Y-%m-%d'),\n",
        "                             datetime.datetime.strptime('2023-06-01', '%Y-%m-%d')]:\n",
        "        for k in range(i):       \n",
        "          t_to_now = (coupon_dates9[k] - today).days/365\n",
        "          f+= coupon * exp(-t_to_now * ytm)\n",
        "      else:\n",
        "        for p in range(i-1):    \n",
        "          t_to_now = (coupon_dates6[p] - today).days/365\n",
        "          f+= coupon * exp(-t_to_now * ytm)\n",
        "      return f\n",
        "    \n",
        "    answer = optimize.newton_krylov(eq, 0.05)\n",
        "\n",
        "    ytms.append(answer)\n",
        "        \n",
        "\n",
        "  line, = plt.plot(x_axis,ytms)  \n",
        "  ytm_lst.append(ytms)\n",
        "  lines.append(line)\n",
        "plt.legend(lines, today_dates)\n",
        "plt.title('Yield Curve')\n",
        "plt.xlabel('Year')\n",
        "plt.show()"
      ],
      "execution_count": 6,
      "outputs": [
        {
          "output_type": "display_data",
          "data": {
            "image/png": "[encoded data removed]",
            "text/plain": [
              "<Figure size 432x288 with 1 Axes>"
            ]
          },
          "metadata": {
            "tags": []
          }
        }
      ]
    },
    {
      "cell_type": "code",
      "metadata": {
        "id": "77vf3Q62XvF7",
        "colab_type": "code",
        "outputId": "cd0a2150-f3bb-4283-d33b-44d709c814bf",
        "colab": {
          "base_uri": "https://localhost:8080/",
          "height": 295
        }
      },
      "source": [
        "today_dates = ['2020-01-02', '2020-01-03', '2020-01-06', '2020-01-07', '2020-01-08', '2020-01-09', '2020-01-10','2020-01-13','2020-01-14','2020-01-15']\n",
        "maturity_dates = []\n",
        "for m_date in bonds['maturity date']:\n",
        "  maturity_dates.append(datetime.datetime.strptime(m_date, '%Y-%m-%d'))  # pv of junes??\n",
        "coupons = bonds['coupon']\n",
        "spots_lst = []\n",
        "lines = []\n",
        "for date in today_dates:\n",
        "  spots = []\n",
        "  prices = bonds[date]\n",
        "  today = datetime.datetime.strptime(date, '%Y-%m-%d')\n",
        "  pv_sum_r = 0\n",
        "  x_axis = []\n",
        "  for i in range(11): \n",
        "    # i corresponds to i/2 year\n",
        "    clean_price = prices[i]\n",
        "    coupon = float(coupons[i][:-1])/2\n",
        "    if maturity_dates[i] in [datetime.datetime.strptime('2022-06-01', '%Y-%m-%d'),\n",
        "                             datetime.datetime.strptime('2023-06-01', '%Y-%m-%d')]:\n",
        "      pre_date = datetime.datetime.strptime('2019-12-01', '%Y-%m-%d')\n",
        "    else:\n",
        "      pre_date = datetime.datetime.strptime('2019-09-01', '%Y-%m-%d')              \n",
        "\n",
        "    accrued_int = (today - pre_date).days / 180* coupon\n",
        "    dirty_price = clean_price + accrued_int\n",
        "    \n",
        "    time_to_mature = (maturity_dates[i]-today).days/365\n",
        "     \n",
        "    x_axis.append(time_to_mature)\n",
        "    \n",
        "\n",
        "\n",
        "    if i <=4 or i in [6,8,9,10]:\n",
        "      spot_i = -log((dirty_price-coupon*pv_sum_r)/(coupon+100))/ time_to_mature\n",
        " \n",
        "      spots.append(spot_i)\n",
        "      pv_sum_r += exp(-(time_to_mature*spot_i))\n",
        "    \n",
        "\n",
        "    elif i == 5:\n",
        "      pv_sum_r6 = 0\n",
        "      spots6 = []\n",
        "      for j in range(i-1):\n",
        "        t_to_now6 = (coupon_dates6[j] - today).days/365\n",
        "        spot6 = (spots[j] + spots[j+1])/2\n",
        "        spots6.append(spot6)\n",
        "        pv_sum_r6 += exp(-t_to_now6*spot6)\n",
        "      spot_i = -log((dirty_price-coupon*pv_sum_r6)/(coupon+100))/ time_to_mature\n",
        "      spots6.append(spot_i)\n",
        "      spots.append(spot_i) # assume r_2209 = r_2206\n",
        "      t2209 = (coupon_dates9[5] - today).days/365\n",
        "      pv_sum_r += exp(-spot_i*t2209)\n",
        "      pv_sum_r6 += exp(-spot_i*time_to_mature)\n",
        "\n",
        "    \n",
        "\n",
        "    elif i == 7:\n",
        "      r2212 = (spots[-1] + spots[-2])/2  #r_2303, r2209\n",
        "      spots6.append(r2212)\n",
        "      pv_sum_r6 += exp(-r2212*(coupon_dates6[5]-today).days/365)\n",
        "      spot_i = -log((dirty_price-coupon*pv_sum_r6)/(coupon+100))/ time_to_mature #r2306\n",
        "      spots6.append(spot_i)\n",
        "      spots.append(spot_i) # assume r_2309 = r_2306\n",
        "      t2309 = (coupon_dates9[7] - today).days/365\n",
        "      pv_sum_r += exp(-spot_i*t2309)\n",
        "      pv_sum_r6 += exp(-spot_i*time_to_mature)\n",
        "\n",
        "\n",
        "  if date == '2020-01-02':\n",
        "    x_axis1 = x_axis.copy()\n",
        "  line, = plt.plot(x_axis1, spots) \n",
        "  lines.append(line)\n",
        "  spots_lst.append(spots)\n",
        "plt.legend(lines, today_dates)\n",
        "plt.xlabel('Year')\n",
        "plt.title('Spot Rate')\n",
        "plt.show()"
      ],
      "execution_count": 7,
      "outputs": [
        {
          "output_type": "display_data",
          "data": {
            "image/png": "[encoded data removed]",
            "text/plain": [
              "<Figure size 432x288 with 1 Axes>"
            ]
          },
          "metadata": {
            "tags": []
          }
        }
      ]
    },
    {
      "cell_type": "code",
      "metadata": {
        "id": "xlnHVCpOZs3s",
        "colab_type": "code",
        "outputId": "7af396fb-b915-44ec-a833-be9b976a8740",
        "colab": {
          "base_uri": "https://localhost:8080/",
          "height": 281
        }
      },
      "source": [
        "forwards_lst = []\n",
        "lines = []\n",
        "for date_i in range(10):\n",
        "  spots = spots_lst[date_i]\n",
        "  spots12345 = [np.interp(k, np.array(x_axis,dtype='float64'), np.array(spots,dtype='float64')) for k in [1,2,3,4,5]]\n",
        "  forwards = []\n",
        "  r1 = spots12345[0]\n",
        "  for j in range(4):\n",
        "      year_n = j + 1 #n-th yr\n",
        "      year_n1 = j + 2 #n+1-th yr\n",
        "      forw_j = (year_n1 * spots12345[j+1] - r1)/year_n\n",
        "      forwards.append(forw_j)\n",
        "  forwards_lst.append(forwards)\n",
        "  line,=plt.plot(['1yr-1yr', '1yr-2yr', '1yr-3yr', '1yr-4yr'], forwards)\n",
        "  lines.append(line)\n",
        "plt.legend(lines, today_dates, loc=1, bbox_to_anchor=(1.3, 1))\n",
        "plt.title('Forward Rate')\n",
        "plt.show()\n"
      ],
      "execution_count": 8,
      "outputs": [
        {
          "output_type": "display_data",
          "data": {
            "image/png": "[encoded data removed]",
            "text/plain": [
              "<Figure size 432x288 with 1 Axes>"
            ]
          },
          "metadata": {
            "tags": []
          }
        }
      ]
    },
    {
      "cell_type": "code",
      "metadata": {
        "id": "RD0gKUYBwmTh",
        "colab_type": "code",
        "colab": {}
      },
      "source": [
        "temp_mat_ytm = []\n",
        "for i in range(10): #different days\n",
        "  ytms = ytm_lst[i]\n",
        "  temp_mat_ytm.append([np.interp(k, np.array(x_axis,dtype='float64'), np.array(ytms,dtype='float64')) for k in [1,2,3,4,5]])\n",
        "\n",
        "temp_mat1_ytm = np.transpose(np.array(temp_mat_ytm[:9]))#j=1,...9\n",
        "temp_mat2_ytm = np.transpose(np.array(temp_mat_ytm[1:]))#j=2,...10\n",
        "\n"
      ],
      "execution_count": 0,
      "outputs": []
    },
    {
      "cell_type": "code",
      "metadata": {
        "id": "KStCZFbM0oyX",
        "colab_type": "code",
        "outputId": "d3f975e3-b3d2-4f4c-89b3-09e0ccb6dbec",
        "colab": {
          "base_uri": "https://localhost:8080/",
          "height": 204
        }
      },
      "source": [
        "X_ytm = np.log(temp_mat2_ytm/temp_mat1_ytm)\n",
        "pd.DataFrame(X_ytm)"
      ],
      "execution_count": 10,
      "outputs": [
        {
          "output_type": "execute_result",
          "data": {
            "text/html": [
              "<div>\n",
              "<style scoped>\n",
              "    .dataframe tbody tr th:only-of-type {\n",
              "        vertical-align: middle;\n",
              "    }\n",
              "\n",
              "    .dataframe tbody tr th {\n",
              "        vertical-align: top;\n",
              "    }\n",
              "\n",
              "    .dataframe thead th {\n",
              "        text-align: right;\n",
              "    }\n",
              "</style>\n",
              "<table border=\"1\" class=\"dataframe\">\n",
              "  <thead>\n",
              "    <tr style=\"text-align: right;\">\n",
              "      <th></th>\n",
              "      <th>0</th>\n",
              "      <th>1</th>\n",
              "      <th>2</th>\n",
              "      <th>3</th>\n",
              "      <th>4</th>\n",
              "      <th>5</th>\n",
              "      <th>6</th>\n",
              "      <th>7</th>\n",
              "      <th>8</th>\n",
              "    </tr>\n",
              "  </thead>\n",
              "  <tbody>\n",
              "    <tr>\n",
              "      <th>0</th>\n",
              "      <td>-0.017979</td>\n",
              "      <td>-0.002840</td>\n",
              "      <td>0.007762</td>\n",
              "      <td>0.007002</td>\n",
              "      <td>0.001646</td>\n",
              "      <td>0.016831</td>\n",
              "      <td>-0.000243</td>\n",
              "      <td>-0.000601</td>\n",
              "      <td>-0.014466</td>\n",
              "    </tr>\n",
              "    <tr>\n",
              "      <th>1</th>\n",
              "      <td>-0.015920</td>\n",
              "      <td>-0.007811</td>\n",
              "      <td>0.005991</td>\n",
              "      <td>0.003082</td>\n",
              "      <td>0.012506</td>\n",
              "      <td>-0.001281</td>\n",
              "      <td>0.016125</td>\n",
              "      <td>-0.004104</td>\n",
              "      <td>-0.006566</td>\n",
              "    </tr>\n",
              "    <tr>\n",
              "      <th>2</th>\n",
              "      <td>-0.020976</td>\n",
              "      <td>-0.012042</td>\n",
              "      <td>0.006184</td>\n",
              "      <td>0.001918</td>\n",
              "      <td>0.017468</td>\n",
              "      <td>0.006434</td>\n",
              "      <td>0.008630</td>\n",
              "      <td>-0.007197</td>\n",
              "      <td>-0.013584</td>\n",
              "    </tr>\n",
              "    <tr>\n",
              "      <th>3</th>\n",
              "      <td>-0.020210</td>\n",
              "      <td>-0.015529</td>\n",
              "      <td>0.022937</td>\n",
              "      <td>-0.013347</td>\n",
              "      <td>0.021538</td>\n",
              "      <td>0.007679</td>\n",
              "      <td>0.003552</td>\n",
              "      <td>-0.011906</td>\n",
              "      <td>-0.015285</td>\n",
              "    </tr>\n",
              "    <tr>\n",
              "      <th>4</th>\n",
              "      <td>-0.025801</td>\n",
              "      <td>-0.026538</td>\n",
              "      <td>0.016317</td>\n",
              "      <td>-0.005071</td>\n",
              "      <td>0.026571</td>\n",
              "      <td>0.003316</td>\n",
              "      <td>0.000143</td>\n",
              "      <td>-0.006728</td>\n",
              "      <td>-0.016220</td>\n",
              "    </tr>\n",
              "  </tbody>\n",
              "</table>\n",
              "</div>"
            ],
            "text/plain": [
              "          0         1         2  ...         6         7         8\n",
              "0 -0.017979 -0.002840  0.007762  ... -0.000243 -0.000601 -0.014466\n",
              "1 -0.015920 -0.007811  0.005991  ...  0.016125 -0.004104 -0.006566\n",
              "2 -0.020976 -0.012042  0.006184  ...  0.008630 -0.007197 -0.013584\n",
              "3 -0.020210 -0.015529  0.022937  ...  0.003552 -0.011906 -0.015285\n",
              "4 -0.025801 -0.026538  0.016317  ...  0.000143 -0.006728 -0.016220\n",
              "\n",
              "[5 rows x 9 columns]"
            ]
          },
          "metadata": {
            "tags": []
          },
          "execution_count": 10
        }
      ]
    },
    {
      "cell_type": "code",
      "metadata": {
        "id": "RiAz9w_X5Ufb",
        "colab_type": "code",
        "outputId": "78908920-c792-4474-caeb-fc6021810609",
        "colab": {
          "base_uri": "https://localhost:8080/",
          "height": 204
        }
      },
      "source": [
        "pd.DataFrame(np.cov(X_ytm), columns=['X1','X2','X3','X4','X5'],index=['X1','X2','X3','X4','X5'])"
      ],
      "execution_count": 11,
      "outputs": [
        {
          "output_type": "execute_result",
          "data": {
            "text/html": [
              "<div>\n",
              "<style scoped>\n",
              "    .dataframe tbody tr th:only-of-type {\n",
              "        vertical-align: middle;\n",
              "    }\n",
              "\n",
              "    .dataframe tbody tr th {\n",
              "        vertical-align: top;\n",
              "    }\n",
              "\n",
              "    .dataframe thead th {\n",
              "        text-align: right;\n",
              "    }\n",
              "</style>\n",
              "<table border=\"1\" class=\"dataframe\">\n",
              "  <thead>\n",
              "    <tr style=\"text-align: right;\">\n",
              "      <th></th>\n",
              "      <th>X1</th>\n",
              "      <th>X2</th>\n",
              "      <th>X3</th>\n",
              "      <th>X4</th>\n",
              "      <th>X5</th>\n",
              "    </tr>\n",
              "  </thead>\n",
              "  <tbody>\n",
              "    <tr>\n",
              "      <th>X1</th>\n",
              "      <td>0.000117</td>\n",
              "      <td>0.000059</td>\n",
              "      <td>0.000101</td>\n",
              "      <td>0.000110</td>\n",
              "      <td>0.000120</td>\n",
              "    </tr>\n",
              "    <tr>\n",
              "      <th>X2</th>\n",
              "      <td>0.000059</td>\n",
              "      <td>0.000105</td>\n",
              "      <td>0.000118</td>\n",
              "      <td>0.000126</td>\n",
              "      <td>0.000147</td>\n",
              "    </tr>\n",
              "    <tr>\n",
              "      <th>X3</th>\n",
              "      <td>0.000101</td>\n",
              "      <td>0.000118</td>\n",
              "      <td>0.000158</td>\n",
              "      <td>0.000181</td>\n",
              "      <td>0.000207</td>\n",
              "    </tr>\n",
              "    <tr>\n",
              "      <th>X4</th>\n",
              "      <td>0.000110</td>\n",
              "      <td>0.000126</td>\n",
              "      <td>0.000181</td>\n",
              "      <td>0.000277</td>\n",
              "      <td>0.000278</td>\n",
              "    </tr>\n",
              "    <tr>\n",
              "      <th>X5</th>\n",
              "      <td>0.000120</td>\n",
              "      <td>0.000147</td>\n",
              "      <td>0.000207</td>\n",
              "      <td>0.000278</td>\n",
              "      <td>0.000320</td>\n",
              "    </tr>\n",
              "  </tbody>\n",
              "</table>\n",
              "</div>"
            ],
            "text/plain": [
              "          X1        X2        X3        X4        X5\n",
              "X1  0.000117  0.000059  0.000101  0.000110  0.000120\n",
              "X2  0.000059  0.000105  0.000118  0.000126  0.000147\n",
              "X3  0.000101  0.000118  0.000158  0.000181  0.000207\n",
              "X4  0.000110  0.000126  0.000181  0.000277  0.000278\n",
              "X5  0.000120  0.000147  0.000207  0.000278  0.000320"
            ]
          },
          "metadata": {
            "tags": []
          },
          "execution_count": 11
        }
      ]
    },
    {
      "cell_type": "code",
      "metadata": {
        "id": "eQZRXm9fXNDZ",
        "colab_type": "code",
        "outputId": "c3c3cb35-9c44-4ed2-fa8f-eec9cec043fd",
        "colab": {
          "base_uri": "https://localhost:8080/",
          "height": 34
        }
      },
      "source": [
        "8.42577814e-04/np.trace(np.cov(X_ytm))"
      ],
      "execution_count": 12,
      "outputs": [
        {
          "output_type": "execute_result",
          "data": {
            "text/plain": [
              "0.8626179249436996"
            ]
          },
          "metadata": {
            "tags": []
          },
          "execution_count": 12
        }
      ]
    },
    {
      "cell_type": "code",
      "metadata": {
        "id": "gHWT1HQS5rO-",
        "colab_type": "code",
        "outputId": "bf8b30fc-0ced-487c-86b2-41d5b219bb46",
        "colab": {
          "base_uri": "https://localhost:8080/",
          "height": 173
        }
      },
      "source": [
        "pd.DataFrame(np.cov(np.transpose(forwards_lst)), columns=['X1','X2','X3','X4'],index=['X1','X2','X3','X4'])"
      ],
      "execution_count": 13,
      "outputs": [
        {
          "output_type": "execute_result",
          "data": {
            "text/html": [
              "<div>\n",
              "<style scoped>\n",
              "    .dataframe tbody tr th:only-of-type {\n",
              "        vertical-align: middle;\n",
              "    }\n",
              "\n",
              "    .dataframe tbody tr th {\n",
              "        vertical-align: top;\n",
              "    }\n",
              "\n",
              "    .dataframe thead th {\n",
              "        text-align: right;\n",
              "    }\n",
              "</style>\n",
              "<table border=\"1\" class=\"dataframe\">\n",
              "  <thead>\n",
              "    <tr style=\"text-align: right;\">\n",
              "      <th></th>\n",
              "      <th>X1</th>\n",
              "      <th>X2</th>\n",
              "      <th>X3</th>\n",
              "      <th>X4</th>\n",
              "    </tr>\n",
              "  </thead>\n",
              "  <tbody>\n",
              "    <tr>\n",
              "      <th>X1</th>\n",
              "      <td>5.531470e-08</td>\n",
              "      <td>4.581940e-08</td>\n",
              "      <td>2.827756e-08</td>\n",
              "      <td>3.764664e-08</td>\n",
              "    </tr>\n",
              "    <tr>\n",
              "      <th>X2</th>\n",
              "      <td>4.581940e-08</td>\n",
              "      <td>6.110043e-08</td>\n",
              "      <td>5.097218e-08</td>\n",
              "      <td>6.457331e-08</td>\n",
              "    </tr>\n",
              "    <tr>\n",
              "      <th>X3</th>\n",
              "      <td>2.827756e-08</td>\n",
              "      <td>5.097218e-08</td>\n",
              "      <td>5.878783e-08</td>\n",
              "      <td>6.355564e-08</td>\n",
              "    </tr>\n",
              "    <tr>\n",
              "      <th>X4</th>\n",
              "      <td>3.764664e-08</td>\n",
              "      <td>6.457331e-08</td>\n",
              "      <td>6.355564e-08</td>\n",
              "      <td>8.558567e-08</td>\n",
              "    </tr>\n",
              "  </tbody>\n",
              "</table>\n",
              "</div>"
            ],
            "text/plain": [
              "              X1            X2            X3            X4\n",
              "X1  5.531470e-08  4.581940e-08  2.827756e-08  3.764664e-08\n",
              "X2  4.581940e-08  6.110043e-08  5.097218e-08  6.457331e-08\n",
              "X3  2.827756e-08  5.097218e-08  5.878783e-08  6.355564e-08\n",
              "X4  3.764664e-08  6.457331e-08  6.355564e-08  8.558567e-08"
            ]
          },
          "metadata": {
            "tags": []
          },
          "execution_count": 13
        }
      ]
    },
    {
      "cell_type": "code",
      "metadata": {
        "id": "A8kQnT3-6u3c",
        "colab_type": "code",
        "colab": {}
      },
      "source": [
        "evalues, evectors = np.linalg.eig(np.cov(X_ytm))"
      ],
      "execution_count": 0,
      "outputs": []
    },
    {
      "cell_type": "code",
      "metadata": {
        "id": "DBcNPQrY3ht_",
        "colab_type": "code",
        "outputId": "f2ce27ee-a1c7-4e64-ad05-605a6aeca163",
        "colab": {
          "base_uri": "https://localhost:8080/",
          "height": 51
        }
      },
      "source": [
        "evalues"
      ],
      "execution_count": 15,
      "outputs": [
        {
          "output_type": "execute_result",
          "data": {
            "text/plain": [
              "array([8.42577814e-04, 6.81453793e-05, 4.59978514e-05, 2.68380862e-06,\n",
              "       1.73634113e-05])"
            ]
          },
          "metadata": {
            "tags": []
          },
          "execution_count": 15
        }
      ]
    },
    {
      "cell_type": "code",
      "metadata": {
        "id": "YTSp2zuS3Wa_",
        "colab_type": "code",
        "outputId": "b3535b4d-d24c-445c-899a-ceaff2fc63f4",
        "colab": {
          "base_uri": "https://localhost:8080/",
          "height": 102
        }
      },
      "source": [
        "evectors"
      ],
      "execution_count": 16,
      "outputs": [
        {
          "output_type": "execute_result",
          "data": {
            "text/plain": [
              "array([[-0.26468576, -0.89050398,  0.28357609,  0.23771013, -0.00475369],\n",
              "       [-0.30134411, -0.01474589, -0.74564716,  0.49207955, -0.33292989],\n",
              "       [-0.41813557, -0.20710541, -0.36529594, -0.80535107,  0.0154439 ],\n",
              "       [-0.54872097,  0.31157632,  0.47467477, -0.02229627, -0.61319837],\n",
              "       [-0.60266169,  0.25848165,  0.06955321,  0.2286135 ,  0.71615943]])"
            ]
          },
          "metadata": {
            "tags": []
          },
          "execution_count": 16
        }
      ]
    },
    {
      "cell_type": "code",
      "metadata": {
        "id": "vm22yUMU3H6e",
        "colab_type": "code",
        "outputId": "c653bb79-534d-4913-8d26-ff05f0a7cc8f",
        "colab": {
          "base_uri": "https://localhost:8080/",
          "height": 204
        }
      },
      "source": [
        "pd.DataFrame(evectors.T, columns=evalues)"
      ],
      "execution_count": 17,
      "outputs": [
        {
          "output_type": "execute_result",
          "data": {
            "text/html": [
              "<div>\n",
              "<style scoped>\n",
              "    .dataframe tbody tr th:only-of-type {\n",
              "        vertical-align: middle;\n",
              "    }\n",
              "\n",
              "    .dataframe tbody tr th {\n",
              "        vertical-align: top;\n",
              "    }\n",
              "\n",
              "    .dataframe thead th {\n",
              "        text-align: right;\n",
              "    }\n",
              "</style>\n",
              "<table border=\"1\" class=\"dataframe\">\n",
              "  <thead>\n",
              "    <tr style=\"text-align: right;\">\n",
              "      <th></th>\n",
              "      <th>0.000843</th>\n",
              "      <th>0.000068</th>\n",
              "      <th>0.000046</th>\n",
              "      <th>0.000003</th>\n",
              "      <th>0.000017</th>\n",
              "    </tr>\n",
              "  </thead>\n",
              "  <tbody>\n",
              "    <tr>\n",
              "      <th>0</th>\n",
              "      <td>-0.264686</td>\n",
              "      <td>-0.301344</td>\n",
              "      <td>-0.418136</td>\n",
              "      <td>-0.548721</td>\n",
              "      <td>-0.602662</td>\n",
              "    </tr>\n",
              "    <tr>\n",
              "      <th>1</th>\n",
              "      <td>-0.890504</td>\n",
              "      <td>-0.014746</td>\n",
              "      <td>-0.207105</td>\n",
              "      <td>0.311576</td>\n",
              "      <td>0.258482</td>\n",
              "    </tr>\n",
              "    <tr>\n",
              "      <th>2</th>\n",
              "      <td>0.283576</td>\n",
              "      <td>-0.745647</td>\n",
              "      <td>-0.365296</td>\n",
              "      <td>0.474675</td>\n",
              "      <td>0.069553</td>\n",
              "    </tr>\n",
              "    <tr>\n",
              "      <th>3</th>\n",
              "      <td>0.237710</td>\n",
              "      <td>0.492080</td>\n",
              "      <td>-0.805351</td>\n",
              "      <td>-0.022296</td>\n",
              "      <td>0.228614</td>\n",
              "    </tr>\n",
              "    <tr>\n",
              "      <th>4</th>\n",
              "      <td>-0.004754</td>\n",
              "      <td>-0.332930</td>\n",
              "      <td>0.015444</td>\n",
              "      <td>-0.613198</td>\n",
              "      <td>0.716159</td>\n",
              "    </tr>\n",
              "  </tbody>\n",
              "</table>\n",
              "</div>"
            ],
            "text/plain": [
              "   0.000843  0.000068  0.000046  0.000003  0.000017\n",
              "0 -0.264686 -0.301344 -0.418136 -0.548721 -0.602662\n",
              "1 -0.890504 -0.014746 -0.207105  0.311576  0.258482\n",
              "2  0.283576 -0.745647 -0.365296  0.474675  0.069553\n",
              "3  0.237710  0.492080 -0.805351 -0.022296  0.228614\n",
              "4 -0.004754 -0.332930  0.015444 -0.613198  0.716159"
            ]
          },
          "metadata": {
            "tags": []
          },
          "execution_count": 17
        }
      ]
    },
    {
      "cell_type": "code",
      "metadata": {
        "id": "1Cof4rKLWwKR",
        "colab_type": "code",
        "colab": {}
      },
      "source": [
        "evaluesf, evectorsf = np.linalg.eig(np.cov(np.transpose(forwards_lst)))"
      ],
      "execution_count": 0,
      "outputs": []
    },
    {
      "cell_type": "code",
      "metadata": {
        "id": "BfUloafB4_Zd",
        "colab_type": "code",
        "outputId": "88c468d3-7fb0-4596-c877-cc15dc953af6",
        "colab": {
          "base_uri": "https://localhost:8080/",
          "height": 85
        }
      },
      "source": [
        "evectorsf"
      ],
      "execution_count": 19,
      "outputs": [
        {
          "output_type": "execute_result",
          "data": {
            "text/plain": [
              "array([[-0.37391099, -0.83725506, -0.39255015, -0.07140671],\n",
              "       [-0.51964858, -0.16339125,  0.83809042,  0.02954837],\n",
              "       [-0.47937477,  0.37233596, -0.1975017 , -0.76977843],\n",
              "       [-0.60029638,  0.36561346, -0.32326756,  0.63361592]])"
            ]
          },
          "metadata": {
            "tags": []
          },
          "execution_count": 19
        }
      ]
    },
    {
      "cell_type": "code",
      "metadata": {
        "id": "F6vSyA9p48F_",
        "colab_type": "code",
        "outputId": "a0800893-4dfa-452f-c940-6a71d38a337e",
        "colab": {
          "base_uri": "https://localhost:8080/",
          "height": 173
        }
      },
      "source": [
        "pd.DataFrame(evectorsf.T, columns=evaluesf)"
      ],
      "execution_count": 20,
      "outputs": [
        {
          "output_type": "execute_result",
          "data": {
            "text/html": [
              "<div>\n",
              "<style scoped>\n",
              "    .dataframe tbody tr th:only-of-type {\n",
              "        vertical-align: middle;\n",
              "    }\n",
              "\n",
              "    .dataframe tbody tr th {\n",
              "        vertical-align: top;\n",
              "    }\n",
              "\n",
              "    .dataframe thead th {\n",
              "        text-align: right;\n",
              "    }\n",
              "</style>\n",
              "<table border=\"1\" class=\"dataframe\">\n",
              "  <thead>\n",
              "    <tr style=\"text-align: right;\">\n",
              "      <th></th>\n",
              "      <th>2.156862e-07</th>\n",
              "      <th>3.524151e-08</th>\n",
              "      <th>2.720143e-09</th>\n",
              "      <th>7.140758e-09</th>\n",
              "    </tr>\n",
              "  </thead>\n",
              "  <tbody>\n",
              "    <tr>\n",
              "      <th>0</th>\n",
              "      <td>-0.373911</td>\n",
              "      <td>-0.519649</td>\n",
              "      <td>-0.479375</td>\n",
              "      <td>-0.600296</td>\n",
              "    </tr>\n",
              "    <tr>\n",
              "      <th>1</th>\n",
              "      <td>-0.837255</td>\n",
              "      <td>-0.163391</td>\n",
              "      <td>0.372336</td>\n",
              "      <td>0.365613</td>\n",
              "    </tr>\n",
              "    <tr>\n",
              "      <th>2</th>\n",
              "      <td>-0.392550</td>\n",
              "      <td>0.838090</td>\n",
              "      <td>-0.197502</td>\n",
              "      <td>-0.323268</td>\n",
              "    </tr>\n",
              "    <tr>\n",
              "      <th>3</th>\n",
              "      <td>-0.071407</td>\n",
              "      <td>0.029548</td>\n",
              "      <td>-0.769778</td>\n",
              "      <td>0.633616</td>\n",
              "    </tr>\n",
              "  </tbody>\n",
              "</table>\n",
              "</div>"
            ],
            "text/plain": [
              "   2.156862e-07  3.524151e-08  2.720143e-09  7.140758e-09\n",
              "0     -0.373911     -0.519649     -0.479375     -0.600296\n",
              "1     -0.837255     -0.163391      0.372336      0.365613\n",
              "2     -0.392550      0.838090     -0.197502     -0.323268\n",
              "3     -0.071407      0.029548     -0.769778      0.633616"
            ]
          },
          "metadata": {
            "tags": []
          },
          "execution_count": 20
        }
      ]
    },
    {
      "cell_type": "code",
      "metadata": {
        "id": "IQCzx4jqaGAz",
        "colab_type": "code",
        "outputId": "05c7d78f-dd20-4749-e549-914e548e6b88",
        "colab": {
          "base_uri": "https://localhost:8080/",
          "height": 34
        }
      },
      "source": [
        "2.156862e-07/np.trace(np.cov(np.transpose(forwards_lst)))"
      ],
      "execution_count": 21,
      "outputs": [
        {
          "output_type": "execute_result",
          "data": {
            "text/plain": [
              "0.8270536896902829"
            ]
          },
          "metadata": {
            "tags": []
          },
          "execution_count": 21
        }
      ]
    }
  ]
}